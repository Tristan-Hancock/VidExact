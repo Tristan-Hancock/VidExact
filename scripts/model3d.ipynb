{
 "cells": [
  {
   "cell_type": "code",
   "execution_count": 1,
   "metadata": {},
   "outputs": [],
   "source": [
    "import torch\n",
    "import torch.nn as nn\n",
    "\n",
    "class Custom3DCNN(nn.Module):\n",
    "    def __init__(self, num_classes):\n",
    "        super(Custom3DCNN, self).__init__()\n",
    "        self.conv1 = nn.Conv3d(in_channels=3, out_channels=32, kernel_size=(3, 3, 3), stride=1, padding=1)\n",
    "        self.bn1 = nn.BatchNorm3d(32)\n",
    "        self.relu = nn.ReLU()\n",
    "        self.pool1 = nn.MaxPool3d(kernel_size=(2, 2, 2), stride=(2, 2, 2))\n",
    "\n",
    "        self.conv2 = nn.Conv3d(32, 64, kernel_size=(3, 3, 3), stride=1, padding=1)\n",
    "        self.bn2 = nn.BatchNorm3d(64)\n",
    "        self.pool2 = nn.MaxPool3d(kernel_size=(2, 2, 2), stride=(2, 2, 2))\n",
    "\n",
    "        self.conv3 = nn.Conv3d(64, 128, kernel_size=(3, 3, 3), stride=1, padding=1)\n",
    "        self.bn3 = nn.BatchNorm3d(128)\n",
    "        self.pool3 = nn.MaxPool3d(kernel_size=(2, 2, 2), stride=(2, 2, 2))\n",
    "\n",
    "        self.fc1 = nn.Linear(128 * 3 * 14 * 14, 512)  # Adjust based on input size\n",
    "        self.fc2 = nn.Linear(512, num_classes)\n",
    "\n",
    "    def forward(self, x):\n",
    "        x = self.pool1(self.relu(self.bn1(self.conv1(x))))\n",
    "        x = self.pool2(self.relu(self.bn2(self.conv2(x))))\n",
    "        x = self.pool3(self.relu(self.bn3(self.conv3(x))))\n",
    "        x = x.view(x.size(0), -1)  # Flatten\n",
    "        x = self.relu(self.fc1(x))\n",
    "        x = self.fc2(x)\n",
    "        return x\n"
   ]
  },
  {
   "cell_type": "code",
   "execution_count": 2,
   "metadata": {},
   "outputs": [],
   "source": [
    "import os\n",
    "import numpy as np\n",
    "import torch\n",
    "from torch.utils.data import Dataset, DataLoader\n",
    "\n",
    "class VideoDataset(Dataset):\n",
    "    def __init__(self, data_path, split, transform=None):\n",
    "        self.data_path = data_path\n",
    "        self.split = split\n",
    "        self.samples = []\n",
    "        self.transform = transform\n",
    "\n",
    "        # Load the mapping from class names to indices\n",
    "        classes = [cls for cls in os.listdir(os.path.join(data_path, split)) if os.path.isdir(os.path.join(data_path, split, cls))]\n",
    "        self.class_to_idx = {cls: idx for idx, cls in enumerate(sorted(classes))}\n",
    "\n",
    "        # Collect file paths and labels\n",
    "        for class_name in classes:\n",
    "            class_dir = os.path.join(data_path, split, class_name)\n",
    "            for file in os.listdir(class_dir):\n",
    "                if file.endswith('.npy'):\n",
    "                    # Use the class-to-index mapping\n",
    "                    label = self.class_to_idx[class_name]\n",
    "                    self.samples.append((os.path.join(class_dir, file), label))\n",
    "\n",
    "    def __len__(self):\n",
    "        return len(self.samples)\n",
    "\n",
    "    def __getitem__(self, idx):\n",
    "        video_path, label = self.samples[idx]\n",
    "        frames = np.load(video_path).astype(np.float32) / 255.0  # Normalize\n",
    "        frames = torch.tensor(frames).permute(3, 0, 1, 2)  # Convert to (C, T, H, W)\n",
    "        return frames, label\n",
    "\n"
   ]
  },
  {
   "cell_type": "code",
   "execution_count": 3,
   "metadata": {},
   "outputs": [],
   "source": [
    "train_dataset = VideoDataset(data_path=r\"C:\\ProjectX\\processed_data\", split='train')\n",
    "val_dataset = VideoDataset(data_path=r\"C:\\ProjectX\\processed_data\", split='val')\n",
    "\n",
    "train_loader = DataLoader(train_dataset, batch_size=4, shuffle=True)\n",
    "val_loader = DataLoader(val_dataset, batch_size=4, shuffle=False)\n",
    "\n",
    "\n"
   ]
  },
  {
   "cell_type": "code",
   "execution_count": 4,
   "metadata": {},
   "outputs": [],
   "source": [
    "def train(model, loader, optimizer, criterion, device):\n",
    "    model.train()\n",
    "    total_loss, correct = 0, 0\n",
    "    for inputs, labels in loader:\n",
    "        inputs, labels = inputs.to(device), labels.to(device)\n",
    "\n",
    "        optimizer.zero_grad()\n",
    "        outputs = model(inputs)\n",
    "        loss = criterion(outputs, labels)\n",
    "        loss.backward()\n",
    "        optimizer.step()\n",
    "\n",
    "        total_loss += loss.item()\n",
    "        correct += (outputs.argmax(1) == labels).sum().item()\n",
    "\n",
    "    accuracy = 100 * correct / len(loader.dataset)\n",
    "    print(f\"Train Loss: {total_loss:.4f}, Accuracy: {accuracy:.2f}%\")\n",
    "    return total_loss, accuracy\n",
    "\n",
    "\n",
    "def evaluate(model, loader, criterion, device):\n",
    "    model.eval()\n",
    "    total_loss, correct = 0, 0\n",
    "    with torch.no_grad():\n",
    "        for inputs, labels in loader:\n",
    "            inputs, labels = inputs.to(device), labels.to(device)\n",
    "            outputs = model(inputs)\n",
    "            loss = criterion(outputs, labels)\n",
    "\n",
    "            total_loss += loss.item()\n",
    "            correct += (outputs.argmax(1) == labels).sum().item()\n",
    "\n",
    "    accuracy = 100 * correct / len(loader.dataset)\n",
    "    print(f\"Val Loss: {total_loss:.4f}, Accuracy: {accuracy:.2f}%\")\n",
    "    return total_loss, accuracy\n"
   ]
  },
  {
   "cell_type": "code",
   "execution_count": 17,
   "metadata": {},
   "outputs": [
    {
     "name": "stdout",
     "output_type": "stream",
     "text": [
      "Epoch 1/10\n",
      "Train Loss: 12156.6787, Accuracy: 1.12%\n",
      "Val Loss: 1230.7017, Accuracy: 1.22%\n",
      "Epoch 2/10\n",
      "Train Loss: 11058.2063, Accuracy: 1.04%\n",
      "Val Loss: 1229.9757, Accuracy: 1.22%\n",
      "Epoch 3/10\n",
      "Train Loss: 11051.7417, Accuracy: 1.14%\n",
      "Val Loss: 1229.7660, Accuracy: 1.22%\n",
      "Epoch 4/10\n",
      "Train Loss: 11050.5126, Accuracy: 1.11%\n",
      "Val Loss: 1229.6743, Accuracy: 1.22%\n",
      "Epoch 5/10\n",
      "Train Loss: 11068.0549, Accuracy: 1.13%\n",
      "Val Loss: 1229.7237, Accuracy: 1.22%\n",
      "Epoch 6/10\n",
      "Train Loss: 11049.8458, Accuracy: 1.09%\n",
      "Val Loss: 1229.7040, Accuracy: 1.22%\n",
      "Epoch 7/10\n",
      "Train Loss: 11049.8844, Accuracy: 1.19%\n",
      "Val Loss: 1229.7080, Accuracy: 1.22%\n",
      "Epoch 8/10\n",
      "Train Loss: 11049.7605, Accuracy: 1.23%\n",
      "Val Loss: 1229.7134, Accuracy: 1.22%\n",
      "Epoch 9/10\n",
      "Train Loss: 11049.8052, Accuracy: 1.05%\n",
      "Val Loss: 1229.7051, Accuracy: 1.22%\n",
      "Epoch 10/10\n",
      "Train Loss: 11049.6733, Accuracy: 1.15%\n",
      "Val Loss: 1229.7000, Accuracy: 1.22%\n"
     ]
    }
   ],
   "source": [
    "device = torch.device('cuda' if torch.cuda.is_available() else 'cpu')\n",
    "model = Custom3DCNN(num_classes=101).to(device)\n",
    "\n",
    "criterion = nn.CrossEntropyLoss()\n",
    "optimizer = torch.optim.Adam(model.parameters(), lr=0.001)\n",
    "\n",
    "num_epochs = 10\n",
    "for epoch in range(num_epochs):\n",
    "    print(f\"Epoch {epoch+1}/{num_epochs}\")\n",
    "    train(model, train_loader, optimizer, criterion, device)\n",
    "    evaluate(model, val_loader, criterion, device)\n"
   ]
  },
  {
   "cell_type": "code",
   "execution_count": 18,
   "metadata": {},
   "outputs": [
    {
     "name": "stdout",
     "output_type": "stream",
     "text": [
      "Val Loss: 1533.6598, Accuracy: 1.24%\n"
     ]
    },
    {
     "data": {
      "text/plain": [
       "(1533.659755706787, 1.2387387387387387)"
      ]
     },
     "execution_count": 18,
     "metadata": {},
     "output_type": "execute_result"
    }
   ],
   "source": [
    "test_dataset = VideoDataset(data_path=r\"C:\\ProjectX\\processed_data\", split='test')\n",
    "test_loader = DataLoader(test_dataset, batch_size=8, shuffle=False)\n",
    "\n",
    "evaluate(model, test_loader, criterion, device)\n"
   ]
  },
  {
   "cell_type": "code",
   "execution_count": 19,
   "metadata": {},
   "outputs": [],
   "source": [
    "torch.save(model.state_dict(), r\"C:\\Users\\acer\\custom_3dcnn.pth\")\n"
   ]
  },
  {
   "cell_type": "code",
   "execution_count": 20,
   "metadata": {},
   "outputs": [
    {
     "name": "stdout",
     "output_type": "stream",
     "text": [
      "Model saved successfully at: C:\\Users\\acer\\OneDrive\\Documents\\Dev Work\\AI\\ProjectX\\ProjectX\\models\\custom_3dcnn_full.pth\n"
     ]
    }
   ],
   "source": [
    "import torch\n",
    "import os\n",
    "\n",
    "# Define the directory where the model will be saved\n",
    "save_dir = r\"C:\\Users\\acer\\OneDrive\\Documents\\Dev Work\\AI\\ProjectX\\ProjectX\\models\"\n",
    "os.makedirs(save_dir, exist_ok=True)\n",
    "\n",
    "# Full path for the model\n",
    "save_path = os.path.join(save_dir, \"custom_3dcnn_full.pth\")\n",
    "\n",
    "# Save the full model\n",
    "try:\n",
    "    torch.save(model, save_path)\n",
    "    print(f\"Model saved successfully at: {save_path}\")\n",
    "except Exception as e:\n",
    "    print(f\"Failed to save the model: {e}\")\n"
   ]
  },
  {
   "cell_type": "code",
   "execution_count": 22,
   "metadata": {},
   "outputs": [
    {
     "name": "stdout",
     "output_type": "stream",
     "text": [
      "Model saved successfully at: C:\\temp\\models\\custom_3dcnn_full.pth\n"
     ]
    }
   ],
   "source": [
    "import torch\n",
    "import os\n",
    "\n",
    "# Save to a simpler path\n",
    "save_dir = r\"C:\\temp\\models\"\n",
    "os.makedirs(save_dir, exist_ok=True)\n",
    "\n",
    "save_path = os.path.join(save_dir, \"custom_3dcnn_full.pth\")\n",
    "\n",
    "# Save the full model\n",
    "try:\n",
    "    torch.save(model, save_path)\n",
    "    print(f\"Model saved successfully at: {save_path}\")\n",
    "except Exception as e:\n",
    "    print(f\"Failed to save the model: {e}\")\n"
   ]
  },
  {
   "cell_type": "code",
   "execution_count": null,
   "metadata": {},
   "outputs": [],
   "source": []
  },
  {
   "cell_type": "code",
   "execution_count": null,
   "metadata": {},
   "outputs": [],
   "source": []
  }
 ],
 "metadata": {
  "kernelspec": {
   "display_name": "AI",
   "language": "python",
   "name": "python3"
  },
  "language_info": {
   "codemirror_mode": {
    "name": "ipython",
    "version": 3
   },
   "file_extension": ".py",
   "mimetype": "text/x-python",
   "name": "python",
   "nbconvert_exporter": "python",
   "pygments_lexer": "ipython3",
   "version": "3.10.13"
  }
 },
 "nbformat": 4,
 "nbformat_minor": 2
}
